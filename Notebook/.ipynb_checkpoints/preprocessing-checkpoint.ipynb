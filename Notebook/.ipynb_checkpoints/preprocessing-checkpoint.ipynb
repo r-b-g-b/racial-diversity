{
 "metadata": {
  "name": "",
  "signature": "sha256:762099f56f04373ac2993d1d232577bd98b6c5a3ca8b051347d51db65a79369c"
 },
 "nbformat": 3,
 "nbformat_minor": 0,
 "worksheets": [
  {
   "cells": [
    {
     "cell_type": "code",
     "collapsed": false,
     "input": [
      "import pandas as pd\n",
      "import numpy as np"
     ],
     "language": "python",
     "metadata": {},
     "outputs": [],
     "prompt_number": 79
    },
    {
     "cell_type": "heading",
     "level": 3,
     "metadata": {},
     "source": [
      "Download county 2010 block shapefiles"
     ]
    },
    {
     "cell_type": "markdown",
     "metadata": {},
     "source": [
      "Alameda and SF county shapefiles from https://www.census.gov/geo/maps-data/data/tiger-line.html"
     ]
    },
    {
     "cell_type": "heading",
     "level": 3,
     "metadata": {},
     "source": [
      "Convert to GEO json"
     ]
    },
    {
     "cell_type": "code",
     "collapsed": false,
     "input": [
      "cd ../geodata/alameda-shapefiles/"
     ],
     "language": "python",
     "metadata": {},
     "outputs": [
      {
       "output_type": "stream",
       "stream": "stdout",
       "text": [
        "[Errno 2] No such file or directory: '../geodata/alameda-shapefiles/'\n",
        "/Users/robert/Documents/Code/Personal/raceHeterogeneity/geodata/alameda-shapefiles\n"
       ]
      }
     ],
     "prompt_number": 50
    },
    {
     "cell_type": "code",
     "collapsed": false,
     "input": [
      "!ogr2ogr -f GeoJSON alameda-county-geodata.json tl_2010_06001_tabblock10.shp"
     ],
     "language": "python",
     "metadata": {},
     "outputs": [],
     "prompt_number": 35
    },
    {
     "cell_type": "code",
     "collapsed": false,
     "input": [
      "import json\n",
      "with open('alameda-county-geodata.json', 'r') as f:\n",
      "    geodata = json.load(f)"
     ],
     "language": "python",
     "metadata": {},
     "outputs": [],
     "prompt_number": 36
    },
    {
     "cell_type": "heading",
     "level": 3,
     "metadata": {},
     "source": [
      "Download CA census data"
     ]
    },
    {
     "cell_type": "markdown",
     "metadata": {},
     "source": [
      "nhgis0001_ds172_2010_block.csv"
     ]
    },
    {
     "cell_type": "heading",
     "level": 3,
     "metadata": {},
     "source": [
      "Load CA census data"
     ]
    },
    {
     "cell_type": "code",
     "collapsed": false,
     "input": [
      "cd ../censusdata"
     ],
     "language": "python",
     "metadata": {},
     "outputs": [
      {
       "output_type": "stream",
       "stream": "stdout",
       "text": [
        "[Errno 2] No such file or directory: '../censusdata'\n",
        "/Users/robert/Documents/Code/Personal/raceHeterogeneity/geodata/alameda-shapefiles\n"
       ]
      }
     ],
     "prompt_number": 37
    },
    {
     "cell_type": "heading",
     "level": 3,
     "metadata": {},
     "source": [
      "Subset CA census data"
     ]
    },
    {
     "cell_type": "code",
     "collapsed": false,
     "input": [
      "census = pd.read_csv('../censusdata/nhgis0001_ds172_2010_block.csv')"
     ],
     "language": "python",
     "metadata": {},
     "outputs": [
      {
       "output_type": "stream",
       "stream": "stderr",
       "text": [
        "/usr/local/lib/python2.7/site-packages/pandas/io/parsers.py:1070: DtypeWarning: Columns (23,24) have mixed types. Specify dtype option on import or set low_memory=False.\n",
        "  data = self._reader.read(nrows)\n"
       ]
      }
     ],
     "prompt_number": 53
    },
    {
     "cell_type": "code",
     "collapsed": false,
     "input": [
      "counties = ['Alameda County', 'San Francisco County']\n",
      "basedir = '/Users/robert/Documents/Code/Personal/raceHeterogeneity/'"
     ],
     "language": "python",
     "metadata": {},
     "outputs": [],
     "prompt_number": 61
    },
    {
     "cell_type": "code",
     "collapsed": false,
     "input": [
      "for county in counties[1:]:\n",
      "    #subset dataframe\n",
      "    local_census = census.ix[census.COUNTY==county]\n",
      "    #make filename\n",
      "    local_census_fname = county.replace(' ', '-').lower()+'-censusdata.csv'\n",
      "    #save\n",
      "    local_census.to_csv('../censusdata/'+local_census_fname, index=False)"
     ],
     "language": "python",
     "metadata": {},
     "outputs": [],
     "prompt_number": 62
    },
    {
     "cell_type": "heading",
     "level": 3,
     "metadata": {},
     "source": [
      "Calculate diversity indices for each location"
     ]
    },
    {
     "cell_type": "code",
     "collapsed": false,
     "input": [
      "def calcDiversityIndex(df):\n",
      "    df_dat = df.filter(regex='^num')\n",
      "    diversity_ix = np.empty(len(df_dat))\n",
      "    for i, (key, values) in enumerate(df_dat.iterrows()):\n",
      "        x = values.values / values.values.sum().astype(float)\n",
      "        diversity_ix[i] = np.linalg.norm(x)\n",
      "\n",
      "    return diversity_ix"
     ],
     "language": "python",
     "metadata": {},
     "outputs": [],
     "prompt_number": 80
    },
    {
     "cell_type": "code",
     "collapsed": false,
     "input": [
      "fpath = os.path.join(basedir, 'censusdata', county.replace(' ', '-').lower()+'-censusdata.csv')"
     ],
     "language": "python",
     "metadata": {},
     "outputs": [],
     "prompt_number": 85
    },
    {
     "cell_type": "code",
     "collapsed": false,
     "input": [
      "def get_diversity_dataframe(fpath):\n",
      "    header = pd.read_csv(fpath, nrows=1, header=None).values.tolist()[0]\n",
      "    colnames1 = ['GISJOIN', 'STATEA', 'COUNTYA', 'COUNTY', 'TRACTA', 'BLOCKA',\n",
      "             'H7Z001', 'H7Z003', 'H7Z004', 'H7Z005', 'H7Z006', 'H7Z007', 'H7Z008', 'H7Z009', 'H7Z010']\n",
      "    colnames2 = ['geoid', 'state', 'county', 'countyname', 'tract', 'block',\n",
      "                 'total', 'numWhite', 'numBlack', 'numAI', 'numAsian', 'numPI', 'numOther', 'num2plus', 'numHisp']\n",
      "    column_mapper = dict(zip(colnames1, colnames2))\n",
      "\n",
      "    cols = [header.index(i) for i in colnames1]\n",
      "    census = pd.read_csv(fpath, usecols=cols)\n",
      "    census.rename(columns=column_mapper, inplace=True)\n",
      "\n",
      "    #only populated areas\n",
      "    census = census[census.total>0]\n",
      "\n",
      "    # add GEOID encoded in the right format to match the shapefiles\n",
      "    geoid = []\n",
      "    for i, row in census.iterrows():\n",
      "        geoid.append('%2.2u%3.3u%6.6u%4.4u' % (row.state, row.county, row.tract, row.block))\n",
      "    census['geoid'] = geoid\n",
      "    \n",
      "    diversity = calcDiversityIndex(census[['numWhite', 'numBlack', 'numAsian', 'numHisp']])\n",
      "    census['diversity'] = diversity\n",
      "    census = census[['geoid', 'diversity']]\n",
      "    census.dropna(how='any', inplace=True)\n",
      "    \n",
      "    return census"
     ],
     "language": "python",
     "metadata": {},
     "outputs": [],
     "prompt_number": 87
    },
    {
     "cell_type": "code",
     "collapsed": false,
     "input": [],
     "language": "python",
     "metadata": {},
     "outputs": [
      {
       "ename": "AttributeError",
       "evalue": "'numpy.ndarray' object has no attribute 'columns'",
       "output_type": "pyerr",
       "traceback": [
        "\u001b[0;31m---------------------------------------------------------------------------\u001b[0m\n\u001b[0;31mAttributeError\u001b[0m                            Traceback (most recent call last)",
        "\u001b[0;32m<ipython-input-89-54007e5e1a64>\u001b[0m in \u001b[0;36m<module>\u001b[0;34m()\u001b[0m\n\u001b[0;32m----> 1\u001b[0;31m \u001b[0mdiversity\u001b[0m\u001b[0;34m.\u001b[0m\u001b[0mcolumns\u001b[0m\u001b[0;34m\u001b[0m\u001b[0m\n\u001b[0m",
        "\u001b[0;31mAttributeError\u001b[0m: 'numpy.ndarray' object has no attribute 'columns'"
       ]
      }
     ],
     "prompt_number": 89
    },
    {
     "cell_type": "heading",
     "level": 3,
     "metadata": {},
     "source": [
      "And save to a file"
     ]
    },
    {
     "cell_type": "code",
     "collapsed": false,
     "input": [
      "for county in counties:\n",
      "\n",
      "    inpath = os.path.join(basedir, 'censusdata', county.replace(' ', '-').lower()+'-censusdata.csv')\n",
      "    local_diversity = get_diversity_dataframe(inpath)\n",
      "\n",
      "    outpath = os.path.join(basedir, 'censusdata', county.replace(' ', '-').lower()+'-diversity.csv')\n",
      "    local_diversity.to_csv(outpath, index=False)"
     ],
     "language": "python",
     "metadata": {},
     "outputs": [],
     "prompt_number": 82
    },
    {
     "cell_type": "code",
     "collapsed": false,
     "input": [
      "local_diversity.columns"
     ],
     "language": "python",
     "metadata": {},
     "outputs": [
      {
       "metadata": {},
       "output_type": "pyout",
       "prompt_number": 84,
       "text": [
        "Index([u'geoid', u'diversity'], dtype='object')"
       ]
      }
     ],
     "prompt_number": 84
    },
    {
     "cell_type": "code",
     "collapsed": false,
     "input": [],
     "language": "python",
     "metadata": {},
     "outputs": []
    }
   ],
   "metadata": {}
  }
 ]
}