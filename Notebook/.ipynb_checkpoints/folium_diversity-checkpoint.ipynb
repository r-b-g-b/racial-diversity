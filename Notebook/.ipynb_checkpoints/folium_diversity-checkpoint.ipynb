{
 "metadata": {
  "name": "",
  "signature": "sha256:9826b3bbfa213c83db6742a0c27b97182544d96632ef749eb72209fe68a5dcb0"
 },
 "nbformat": 3,
 "nbformat_minor": 0,
 "worksheets": [
  {
   "cells": [
    {
     "cell_type": "code",
     "collapsed": false,
     "input": [
      "import folium\n",
      "import pandas as pd\n",
      "import numpy as np\n",
      "import json\n",
      "from matplotlib import pyplot as plt\n",
      "%matplotlib inline\n",
      "\n",
      "!pwd"
     ],
     "language": "python",
     "metadata": {},
     "outputs": [
      {
       "output_type": "stream",
       "stream": "stdout",
       "text": [
        "/Users/robert/Documents/Code/Personal/raceHeterogeneity/folium-demo\r\n"
       ]
      }
     ],
     "prompt_number": 35
    },
    {
     "cell_type": "heading",
     "level": 3,
     "metadata": {},
     "source": [
      "Load local diversity data"
     ]
    },
    {
     "cell_type": "code",
     "collapsed": false,
     "input": [
      "census = pd.read_csv('../censusdata/alameda-county-diversity.csv', dtype={'geoid': object})"
     ],
     "language": "python",
     "metadata": {},
     "outputs": [],
     "prompt_number": 36
    },
    {
     "cell_type": "code",
     "collapsed": false,
     "input": [
      "census = census[:100]"
     ],
     "language": "python",
     "metadata": {},
     "outputs": [],
     "prompt_number": 32
    },
    {
     "cell_type": "code",
     "collapsed": false,
     "input": [
      "census.head()"
     ],
     "language": "python",
     "metadata": {},
     "outputs": [
      {
       "html": [
        "<div style=\"max-height:1000px;max-width:1500px;overflow:auto;\">\n",
        "<table border=\"1\" class=\"dataframe\">\n",
        "  <thead>\n",
        "    <tr style=\"text-align: right;\">\n",
        "      <th></th>\n",
        "      <th>geoid</th>\n",
        "      <th>diversity</th>\n",
        "    </tr>\n",
        "  </thead>\n",
        "  <tbody>\n",
        "    <tr>\n",
        "      <th>0</th>\n",
        "      <td> 060014001001007</td>\n",
        "      <td> 0.870337</td>\n",
        "    </tr>\n",
        "    <tr>\n",
        "      <th>1</th>\n",
        "      <td> 060014001001008</td>\n",
        "      <td> 0.895806</td>\n",
        "    </tr>\n",
        "    <tr>\n",
        "      <th>2</th>\n",
        "      <td> 060014001001011</td>\n",
        "      <td> 0.853118</td>\n",
        "    </tr>\n",
        "    <tr>\n",
        "      <th>3</th>\n",
        "      <td> 060014001001013</td>\n",
        "      <td> 1.000000</td>\n",
        "    </tr>\n",
        "    <tr>\n",
        "      <th>4</th>\n",
        "      <td> 060014001001014</td>\n",
        "      <td> 0.812404</td>\n",
        "    </tr>\n",
        "  </tbody>\n",
        "</table>\n",
        "<p>5 rows \u00d7 2 columns</p>\n",
        "</div>"
       ],
       "metadata": {},
       "output_type": "pyout",
       "prompt_number": 37,
       "text": [
        "             geoid  diversity\n",
        "0  060014001001007   0.870337\n",
        "1  060014001001008   0.895806\n",
        "2  060014001001011   0.853118\n",
        "3  060014001001013   1.000000\n",
        "4  060014001001014   0.812404\n",
        "\n",
        "[5 rows x 2 columns]"
       ]
      }
     ],
     "prompt_number": 37
    },
    {
     "cell_type": "heading",
     "level": 3,
     "metadata": {},
     "source": [
      "Create map"
     ]
    },
    {
     "cell_type": "code",
     "collapsed": false,
     "input": [
      "cd ../folium-demo/"
     ],
     "language": "python",
     "metadata": {},
     "outputs": [
      {
       "output_type": "stream",
       "stream": "stdout",
       "text": [
        "/Users/robert/Documents/Code/Personal/raceHeterogeneity/folium-demo\n"
       ]
      }
     ],
     "prompt_number": 38
    },
    {
     "cell_type": "code",
     "collapsed": false,
     "input": [
      "pwd"
     ],
     "language": "python",
     "metadata": {},
     "outputs": [
      {
       "metadata": {},
       "output_type": "pyout",
       "prompt_number": 39,
       "text": [
        "u'/Users/robert/Documents/Code/Personal/raceHeterogeneity/folium-demo'"
       ]
      }
     ],
     "prompt_number": 39
    },
    {
     "cell_type": "code",
     "collapsed": false,
     "input": [
      "map = folium.Map(location=[37.614364, -122.061114], zoom_start=10, \n",
      "                 tiles='http://{s}.tile.stamen.com/toner-lines/{z}/{x}/{y}.png',\n",
      "#                  tiles='Stamen Toner',\n",
      "                 attr='Map tiles by Stamen Design (stamen.com)',\n",
      "                 height=700)\n",
      "\n",
      "map.create_map(path='alameda-basemap-only.html')\n",
      "\n",
      "map.geo_json(geo_path=r'alameda-county-geodata-topo.json', data=census,\n",
      "             columns=['geoid', 'diversity'],\n",
      "             key_on='feature.GEOID10',\n",
      "             fill_color='YlOrRd', line_opacity=0.3,\n",
      "             topojson='objects.tl_2010_06001_tabblock10',\n",
      "             threshold_scale=[0.6, 0.7, 0.8, 0.9, 1.0],\n",
      "             legend_name='Diversity')\n",
      "\n",
      "map.create_map(path='alameda-diversity-choropleth.html')"
     ],
     "language": "python",
     "metadata": {},
     "outputs": [
      {
       "ename": "SyntaxError",
       "evalue": "keyword argument repeated (<ipython-input-63-feeb8f75ec57>, line 3)",
       "output_type": "pyerr",
       "traceback": [
        "\u001b[0;36m  File \u001b[0;32m\"<ipython-input-63-feeb8f75ec57>\"\u001b[0;36m, line \u001b[0;32m3\u001b[0m\n\u001b[0;31m    tiles='Stamen Toner',\u001b[0m\n\u001b[0;31mSyntaxError\u001b[0m\u001b[0;31m:\u001b[0m keyword argument repeated\n"
       ]
      }
     ],
     "prompt_number": 63
    },
    {
     "cell_type": "code",
     "collapsed": false,
     "input": [
      "\n"
     ],
     "language": "python",
     "metadata": {},
     "outputs": []
    }
   ],
   "metadata": {}
  }
 ]
}