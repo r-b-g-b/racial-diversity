{
 "metadata": {
  "name": "",
  "signature": "sha256:a03cf35ea144d9616d88c712758c58fd764db10867790f3600159c23a116f86d"
 },
 "nbformat": 3,
 "nbformat_minor": 0,
 "worksheets": [
  {
   "cells": [
    {
     "cell_type": "code",
     "collapsed": false,
     "input": [
      "import folium\n",
      "import pandas as pd\n",
      "import numpy as np\n",
      "import json\n",
      "from matplotlib import pyplot as plt\n",
      "%matplotlib inline\n",
      "\n",
      "!pwd"
     ],
     "language": "python",
     "metadata": {},
     "outputs": [
      {
       "output_type": "stream",
       "stream": "stdout",
       "text": [
        "/Users/robert/Documents/Code/Personal/raceHeterogeneity/folium-demo\r\n"
       ]
      }
     ],
     "prompt_number": 35
    },
    {
     "cell_type": "heading",
     "level": 3,
     "metadata": {},
     "source": [
      "Load local diversity data"
     ]
    },
    {
     "cell_type": "code",
     "collapsed": false,
     "input": [
      "census = pd.read_csv('../censusdata/alameda-county-diversity.csv', dtype={'geoid': object})"
     ],
     "language": "python",
     "metadata": {},
     "outputs": [],
     "prompt_number": 36
    },
    {
     "cell_type": "code",
     "collapsed": false,
     "input": [
      "census = census[:100]"
     ],
     "language": "python",
     "metadata": {},
     "outputs": [],
     "prompt_number": 32
    },
    {
     "cell_type": "code",
     "collapsed": false,
     "input": [
      "census.geoid[0]"
     ],
     "language": "python",
     "metadata": {},
     "outputs": [
      {
       "metadata": {},
       "output_type": "pyout",
       "prompt_number": 100,
       "text": [
        "'060014001001007'"
       ]
      }
     ],
     "prompt_number": 100
    },
    {
     "cell_type": "code",
     "collapsed": false,
     "input": [
      "'060014001001007'\n",
      "'060014100002024'"
     ],
     "language": "python",
     "metadata": {},
     "outputs": []
    },
    {
     "cell_type": "code",
     "collapsed": false,
     "input": [
      "ids = [i['id'] for i in geodata['objects']['alameda-county-geodata']['geometries']]"
     ],
     "language": "python",
     "metadata": {},
     "outputs": [],
     "prompt_number": 101
    },
    {
     "cell_type": "code",
     "collapsed": false,
     "input": [
      "geoms = geodata['objects']['alameda-county-geodata']['geometries']"
     ],
     "language": "python",
     "metadata": {},
     "outputs": [],
     "prompt_number": 157
    },
    {
     "cell_type": "code",
     "collapsed": false,
     "input": [
      "geoms[1000]['arcs'][0]"
     ],
     "language": "python",
     "metadata": {},
     "outputs": [
      {
       "metadata": {},
       "output_type": "pyout",
       "prompt_number": 161,
       "text": [
        "[4734, 4735, 4736, 4737, 4738, 4739, 4740, 4741, 4742, 4743, 4744, 4745]"
       ]
      }
     ],
     "prompt_number": 161
    },
    {
     "cell_type": "code",
     "collapsed": false,
     "input": [
      "lat, lon = transform_arc(geoms[7000]['arcs'][0][0], geodata['arcs'], geodata['transform'])\n",
      "map = folium.Map(location=[37.614364, -122.061114], zoom_start=10, height=700)\n",
      "map.simple_marker([lat, lon])\n",
      "map.create_map('temp.html')"
     ],
     "language": "python",
     "metadata": {},
     "outputs": [],
     "prompt_number": 164
    },
    {
     "cell_type": "code",
     "collapsed": false,
     "input": [
      "def transform_arc(arcindex, arcs, transform):\n",
      "    posx, posy = arcs[arcindex][0]\n",
      "    lon = posx*transform['scale'][0] + transform['translate'][0]\n",
      "    lat = posx*transform['scale'][1] + transform['translate'][1]\n",
      "    return lat, lon"
     ],
     "language": "python",
     "metadata": {},
     "outputs": [],
     "prompt_number": 150
    },
    {
     "cell_type": "heading",
     "level": 3,
     "metadata": {},
     "source": [
      "Create map"
     ]
    },
    {
     "cell_type": "code",
     "collapsed": false,
     "input": [
      "cd ../folium-demo/"
     ],
     "language": "python",
     "metadata": {},
     "outputs": [
      {
       "output_type": "stream",
       "stream": "stdout",
       "text": [
        "/Users/robert/Documents/Code/Personal/raceHeterogeneity/folium-demo\n"
       ]
      }
     ],
     "prompt_number": 38
    },
    {
     "cell_type": "code",
     "collapsed": false,
     "input": [
      "pwd"
     ],
     "language": "python",
     "metadata": {},
     "outputs": [
      {
       "metadata": {},
       "output_type": "pyout",
       "prompt_number": 39,
       "text": [
        "u'/Users/robert/Documents/Code/Personal/raceHeterogeneity/folium-demo'"
       ]
      }
     ],
     "prompt_number": 39
    },
    {
     "cell_type": "code",
     "collapsed": false,
     "input": [
      "census.head()"
     ],
     "language": "python",
     "metadata": {},
     "outputs": [
      {
       "html": [
        "<div style=\"max-height:1000px;max-width:1500px;overflow:auto;\">\n",
        "<table border=\"1\" class=\"dataframe\">\n",
        "  <thead>\n",
        "    <tr style=\"text-align: right;\">\n",
        "      <th></th>\n",
        "      <th>geoid</th>\n",
        "      <th>diversity</th>\n",
        "    </tr>\n",
        "  </thead>\n",
        "  <tbody>\n",
        "    <tr>\n",
        "      <th>0</th>\n",
        "      <td> 060014001001007</td>\n",
        "      <td> 0.870337</td>\n",
        "    </tr>\n",
        "    <tr>\n",
        "      <th>1</th>\n",
        "      <td> 060014001001008</td>\n",
        "      <td> 0.895806</td>\n",
        "    </tr>\n",
        "    <tr>\n",
        "      <th>2</th>\n",
        "      <td> 060014001001011</td>\n",
        "      <td> 0.853118</td>\n",
        "    </tr>\n",
        "    <tr>\n",
        "      <th>3</th>\n",
        "      <td> 060014001001013</td>\n",
        "      <td> 1.000000</td>\n",
        "    </tr>\n",
        "    <tr>\n",
        "      <th>4</th>\n",
        "      <td> 060014001001014</td>\n",
        "      <td> 0.812404</td>\n",
        "    </tr>\n",
        "  </tbody>\n",
        "</table>\n",
        "<p>5 rows \u00d7 2 columns</p>\n",
        "</div>"
       ],
       "metadata": {},
       "output_type": "pyout",
       "prompt_number": 67,
       "text": [
        "             geoid  diversity\n",
        "0  060014001001007   0.870337\n",
        "1  060014001001008   0.895806\n",
        "2  060014001001011   0.853118\n",
        "3  060014001001013   1.000000\n",
        "4  060014001001014   0.812404\n",
        "\n",
        "[5 rows x 2 columns]"
       ]
      }
     ],
     "prompt_number": 67
    },
    {
     "cell_type": "code",
     "collapsed": false,
     "input": [
      "map = folium.Map(location=[37.614364, -122.061114], zoom_start=10, \n",
      "                 tiles='http://{s}.tile.stamen.com/toner-lines/{z}/{x}/{y}.png',\n",
      "#                  tiles='Stamen Toner',\n",
      "                 attr='Map tiles by Stamen Design (stamen.com)',\n",
      "                 height=700)\n",
      "\n",
      "map.create_map(path='alameda-basemap-only.html')\n",
      "\n",
      "map.geo_json(geo_path=r'alameda-county-geodata-topo.json', data=census,\n",
      "             columns=['geoid', 'diversity'],\n",
      "             key_on='feature.id',\n",
      "             fill_color='YlOrRd',\n",
      "#              line_opacity=0.3,\n",
      "             topojson='objects.alameda-county-geodata',\n",
      "#              threshold_scale=[0.6, 0.7, 0.8, 0.9, 1.0],\n",
      "             legend_name='Diversity')\n",
      "\n",
      "map.create_map(path='alameda-diversity-choropleth.html')"
     ],
     "language": "python",
     "metadata": {},
     "outputs": [],
     "prompt_number": 92
    },
    {
     "cell_type": "code",
     "collapsed": false,
     "input": [
      "with open('alameda-county-geodata-topo.json', 'r') as f:\n",
      "    geodata = json.load(f)"
     ],
     "language": "python",
     "metadata": {},
     "outputs": [],
     "prompt_number": 84
    },
    {
     "cell_type": "code",
     "collapsed": false,
     "input": [
      "geodata.keys()"
     ],
     "language": "python",
     "metadata": {},
     "outputs": [
      {
       "metadata": {},
       "output_type": "pyout",
       "prompt_number": 85,
       "text": [
        "[u'objects', u'type', u'transform', u'arcs']"
       ]
      }
     ],
     "prompt_number": 85
    },
    {
     "cell_type": "code",
     "collapsed": false,
     "input": [
      "geodata['objects']['alameda-county-geodata']['geometries'][0]['id']"
     ],
     "language": "python",
     "metadata": {},
     "outputs": [
      {
       "metadata": {},
       "output_type": "pyout",
       "prompt_number": 91,
       "text": [
        "u'060014100002024'"
       ]
      }
     ],
     "prompt_number": 91
    },
    {
     "cell_type": "code",
     "collapsed": false,
     "input": [
      "with open('us_counties_20m_topo.json', 'r') as f:\n",
      "    geodemo = json.load(f)"
     ],
     "language": "python",
     "metadata": {},
     "outputs": [],
     "prompt_number": 93
    },
    {
     "cell_type": "code",
     "collapsed": false,
     "input": [
      "geodemo['objects']['us_counties_20m']['geometries'][0]"
     ],
     "language": "python",
     "metadata": {},
     "outputs": [
      {
       "metadata": {},
       "output_type": "pyout",
       "prompt_number": 97,
       "text": [
        "{u'arcs': [[0, 1, 2, 3, 4]], u'id': u'0500000US01001', u'type': u'Polygon'}"
       ]
      }
     ],
     "prompt_number": 97
    },
    {
     "cell_type": "code",
     "collapsed": false,
     "input": [],
     "language": "python",
     "metadata": {},
     "outputs": []
    }
   ],
   "metadata": {}
  }
 ]
}